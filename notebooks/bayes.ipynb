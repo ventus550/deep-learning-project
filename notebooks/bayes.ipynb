{
 "cells": [
  {
   "cell_type": "code",
   "execution_count": null,
   "metadata": {},
   "outputs": [],
   "source": [
    "%cd ..\n",
    "%load_ext kedro.ipython"
   ]
  },
  {
   "cell_type": "code",
   "execution_count": null,
   "metadata": {},
   "outputs": [],
   "source": [
    "import keras\n",
    "import numpy as np\n",
    "import matplotlib.pyplot as plt\n",
    "from keras import initializers\n",
    "from keras.layers import *\n",
    "from raccoon_spotter.models.components import BayesDense"
   ]
  },
  {
   "cell_type": "markdown",
   "metadata": {},
   "source": [
    "# Sample data"
   ]
  },
  {
   "cell_type": "code",
   "execution_count": null,
   "metadata": {},
   "outputs": [],
   "source": [
    "x = np.linspace(-2, 2, 500)\n",
    "y = x**3 - x**2 + 3*np.random.random(x.shape)\n",
    "x = np.expand_dims(x, axis=1)\n",
    "y = np.expand_dims(y, axis=1)\n",
    "\n",
    "plt.scatter(x, y)\n",
    "plt.show()"
   ]
  },
  {
   "cell_type": "markdown",
   "metadata": {},
   "source": [
    "# Define model"
   ]
  },
  {
   "cell_type": "code",
   "execution_count": null,
   "metadata": {},
   "outputs": [],
   "source": [
    "bayes = keras.Sequential([\n",
    "\tBayesDense(100, prior_mu=0, prior_sigma=0.1, activation=\"relu\"),\n",
    "\tBayesDense(1, prior_mu=0, prior_sigma=0.1),\n",
    "])\n",
    "\n",
    "dense = keras.Sequential([\n",
    "\tDense(100, activation=\"relu\"),\n",
    "\tDense(1),\n",
    "])\n",
    "\n",
    "bayes.compile(optimizer=keras.optimizers.Adam(learning_rate=0.01), loss=\"mse\")\n",
    "dense.compile(optimizer=keras.optimizers.Adam(learning_rate=0.01), loss=\"mse\")"
   ]
  },
  {
   "cell_type": "code",
   "execution_count": null,
   "metadata": {},
   "outputs": [],
   "source": [
    "bayes.fit(x, y, epochs=1000, batch_size=500)"
   ]
  },
  {
   "cell_type": "code",
   "execution_count": null,
   "metadata": {},
   "outputs": [],
   "source": [
    "dense.fit(x, y, epochs=1000, batch_size=500)"
   ]
  },
  {
   "cell_type": "markdown",
   "metadata": {},
   "source": [
    "# Test model"
   ]
  },
  {
   "cell_type": "code",
   "execution_count": null,
   "metadata": {},
   "outputs": [],
   "source": [
    "xt = np.linspace(-2, 2, 500)\n",
    "yt = xt**3 - xt**2 + 3*np.random.random(xt.shape)\n",
    "xt = np.expand_dims(xt, axis=1)\n",
    "yt = np.expand_dims(yt, axis=1)"
   ]
  },
  {
   "cell_type": "code",
   "execution_count": null,
   "metadata": {},
   "outputs": [],
   "source": [
    "plt.scatter(xt, yt, color='k', s=2)\n",
    "\n",
    "pb = bayes(xt)\n",
    "plt.plot(xt, pb, \"r-\", linewidth=3)\n",
    "\n",
    "pd = dense(xt)\n",
    "plt.plot(xt, pd, \"b-\", linewidth=3)\n",
    "\n",
    "print(sum((xt - pb)**2))\n",
    "print(sum((xt - pd)**2))"
   ]
  }
 ],
 "metadata": {
  "kernelspec": {
   "display_name": "Python 3",
   "language": "python",
   "name": "python3"
  },
  "language_info": {
   "codemirror_mode": {
    "name": "ipython",
    "version": 3
   },
   "file_extension": ".py",
   "mimetype": "text/x-python",
   "name": "python",
   "nbconvert_exporter": "python",
   "pygments_lexer": "ipython3"
  }
 },
 "nbformat": 4,
 "nbformat_minor": 2
}
