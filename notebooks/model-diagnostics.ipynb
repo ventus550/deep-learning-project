{
 "cells": [
  {
   "cell_type": "code",
   "execution_count": null,
   "metadata": {},
   "outputs": [],
   "source": [
    "%cd ..\n",
    "%load_ext kedro.ipython"
   ]
  },
  {
   "cell_type": "code",
   "execution_count": null,
   "metadata": {},
   "outputs": [],
   "source": [
    "from raccoon_spotter.utils.data_visualization import *\n",
    "from raccoon_spotter.utils.metrics import *"
   ]
  },
  {
   "cell_type": "code",
   "execution_count": null,
   "metadata": {},
   "outputs": [],
   "source": [
    "X, Y = catalog.load(\"raccoon_features_data_array\").values(); Y = Y.astype(np.float32)\n",
    "pretrained_model = catalog.load(\"pretrained_model\")\n",
    "trained_model = catalog.load(\"trained_model\")"
   ]
  },
  {
   "cell_type": "code",
   "execution_count": null,
   "metadata": {},
   "outputs": [],
   "source": [
    "layer_means = {layer.name: layer.weights[0].numpy().flatten() for layer in pretrained_model.layers if \"conv\" in layer.name or \"dense\" in layer.name}\n",
    "kdeplot(layer_means)\n",
    "plt.show()"
   ]
  },
  {
   "cell_type": "code",
   "execution_count": null,
   "metadata": {},
   "outputs": [],
   "source": [
    "P0 = pretrained_model.predict(X)\n",
    "P1 = trained_model.predict(X)"
   ]
  },
  {
   "cell_type": "code",
   "execution_count": null,
   "metadata": {},
   "outputs": [],
   "source": [
    "mse0 = mse(P0, Y)\n",
    "mse1 = mse(P1, Y)\n",
    "cos0 = 1+cos(P0, Y)\n",
    "cos1 = 1+cos(P1, Y)\n",
    "iou0 = 1-iou(P0, Y)\n",
    "iou1 = 1-iou(P1, Y)"
   ]
  },
  {
   "cell_type": "code",
   "execution_count": null,
   "metadata": {},
   "outputs": [],
   "source": [
    "# normalize the metrics for comparison\n",
    "scaled = lambda array: array / max(array)\n",
    "mse0, mse1 = scaled(np.array([mse0, mse1]))\n",
    "cos0, cos1 = scaled(np.array([cos0, cos1]))\n",
    "iou0, iou1 = scaled(np.array([iou0, iou1]))"
   ]
  },
  {
   "cell_type": "code",
   "execution_count": null,
   "metadata": {},
   "outputs": [],
   "source": [
    "radialplot(\n",
    "\t[\"Intersection\\nOver\\nUnion\\nComplement\", \"\\nMean\\nSquared\\nError\", \"\\nCosine\\nSimilarity\"],\n",
    "\tdict(\n",
    "\t\tpretrained_model=[iou0, mse0, cos0],\n",
    "\t\ttrained_model=[iou1, mse1, cos1]\n",
    "\t),\n",
    "\tintervals = 9\n",
    ")"
   ]
  }
 ],
 "metadata": {
  "kernelspec": {
   "display_name": "raccoon-spotter-qyvMo8Bh",
   "language": "python",
   "name": "python3"
  },
  "language_info": {
   "codemirror_mode": {
    "name": "ipython",
    "version": 3
   },
   "file_extension": ".py",
   "mimetype": "text/x-python",
   "name": "python",
   "nbconvert_exporter": "python",
   "pygments_lexer": "ipython3"
  }
 },
 "nbformat": 4,
 "nbformat_minor": 2
}
