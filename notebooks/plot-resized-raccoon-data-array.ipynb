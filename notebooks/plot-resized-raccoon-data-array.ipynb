{
 "cells": [
  {
   "cell_type": "code",
   "execution_count": null,
   "metadata": {},
   "outputs": [],
   "source": [
    "%cd ..\n",
    "%load_ext kedro.ipython"
   ]
  },
  {
   "cell_type": "code",
   "execution_count": null,
   "metadata": {},
   "outputs": [],
   "source": [
    "import matplotlib.pyplot as plt\n",
    "from raccoon_spotter.pipelines.data_processing.nodes import *\n",
    "from raccoon_spotter.utils.data_visualization import draw_bounding_box\n",
    "from kedro.config import OmegaConfigLoader"
   ]
  },
  {
   "cell_type": "code",
   "execution_count": null,
   "metadata": {},
   "outputs": [],
   "source": [
    "R = catalog.load(\"raccoon_data_array\")\n",
    "R_reshaped = add_rgb_channel_to_image_arrays(R)\n",
    "R_resized = pad_image_arrays(R_reshaped, OmegaConfigLoader(\"conf/base\")[\"parameters\"][\"padded_shape\"], True)"
   ]
  },
  {
   "cell_type": "code",
   "execution_count": null,
   "metadata": {},
   "outputs": [],
   "source": [
    "X, Y = R.values()\n",
    "Xr, Yr = R_resized.values()"
   ]
  },
  {
   "cell_type": "code",
   "execution_count": null,
   "metadata": {},
   "outputs": [],
   "source": [
    "fig, axs = plt.subplots(6, 2, figsize=(12, 24))\n",
    "for i, ax in enumerate(axs):\n",
    "\tax[0].imshow(draw_bounding_box(X[i*2], Y[i*2]))\n",
    "\tax[1].imshow(draw_bounding_box(Xr[i*2], Yr[i*2]))"
   ]
  }
 ],
 "metadata": {
  "kernelspec": {
   "display_name": "raccoon-spotter-qyvMo8Bh",
   "language": "python",
   "name": "python3"
  },
  "language_info": {
   "codemirror_mode": {
    "name": "ipython",
    "version": 3
   },
   "file_extension": ".py",
   "mimetype": "text/x-python",
   "name": "python",
   "nbconvert_exporter": "python",
   "pygments_lexer": "ipython3"
  }
 },
 "nbformat": 4,
 "nbformat_minor": 2
}
